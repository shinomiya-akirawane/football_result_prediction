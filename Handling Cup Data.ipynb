{
 "cells": [
  {
   "cell_type": "code",
   "execution_count": 15,
   "id": "c13dbcda",
   "metadata": {},
   "outputs": [
    {
     "name": "stdout",
     "output_type": "stream",
     "text": [
      "CSV file with converted dates has been saved.\n"
     ]
    }
   ],
   "source": [
    "import pandas as pd\n",
    "\n",
    "file_path = 'C:\\\\Users\\\\Hsiun\\\\Desktop\\\\COMP0036\\\\ex_cup.csv'\n",
    "\n",
    "df = pd.read_csv(file_path)\n",
    "\n",
    "\n",
    "df['Date'] = pd.to_datetime(df['date_GMT']).dt.strftime('%Y/%m/%d')\n",
    "\n",
    "df.to_csv('C:\\\\Users\\\\Hsiun\\\\Desktop\\\\COMP0036\\\\New_ex_cup.csv', index=False)\n",
    "\n",
    "print(\"CSV file with converted dates has been saved.\")\n"
   ]
  },
  {
   "cell_type": "code",
   "execution_count": 11,
   "id": "cd21753e",
   "metadata": {},
   "outputs": [
    {
     "name": "stdout",
     "output_type": "stream",
     "text": [
      "Filtered CSV file has been saved.\n"
     ]
    }
   ],
   "source": [
    "import pandas as pd\n",
    "\n",
    "file_path = 'C:\\\\Users\\\\Hsiun\\\\Desktop\\\\COMP0036\\\\ex_cup.csv'\n",
    "\n",
    "df = pd.read_csv(file_path)\n",
    "\n",
    "# 指定要检查的队伍列表\n",
    "teams = [\n",
    "    'Hull', 'Fulham', 'Nott\\'m Forest', 'Derby', 'Leeds', 'Arsenal', 'Portsmouth', \n",
    "    'Sheffield United', 'Blackpool', 'QPR', 'Bolton', 'Cardiff', 'Birmingham', \n",
    "    'Charlton', 'Luton', 'Chelsea', 'Newcastle', 'Blackburn', 'Bournemouth', \n",
    "    'Brighton', 'Leicester', 'Aston Villa', 'Liverpool', 'Crystal Palace', 'Swansea', \n",
    "    'Coventry', 'Wolves', 'Man City', 'West Ham', 'Reading', 'Southampton', \n",
    "    'Burnley', 'Man United', 'Norwich', 'Tottenham', 'Bradford', 'Middlesbrough', \n",
    "    'West Brom', 'Stoke', 'Wigan', 'Everton', 'Watford', 'Brentford', 'Sunderland', \n",
    "    ''\n",
    "]\n",
    "\n",
    "# 过滤数据，只保留包含指定队伍的行\n",
    "filtered_df = df[df['HomeTeam'].isin(teams) | df['AwayTeam'].isin(teams)]\n",
    "\n",
    "filtered_df.to_csv('C:\\\\Users\\\\Hsiun\\\\Desktop\\\\COMP0036\\\\New_New_ex_cup.csv', index=False)\n",
    "\n",
    "print(\"Filtered CSV file has been saved.\")\n"
   ]
  },
  {
   "cell_type": "markdown",
   "id": "c9738bd7",
   "metadata": {},
   "source": [
    "添加赛季数据"
   ]
  },
  {
   "cell_type": "code",
   "execution_count": 1,
   "id": "46f799fd",
   "metadata": {},
   "outputs": [],
   "source": [
    "import pandas as pd\n",
    "from datetime import datetime\n",
    "\n",
    "def identify_season(date_str):\n",
    "\n",
    "    date = datetime.strptime(date_str, '%Y/%m/%d')\n",
    "    if datetime(date.year, 8, 1) <= date < datetime(date.year + 1, 7, 1):\n",
    "        return f'{date.year}-{date.year + 1}'\n",
    "    else:\n",
    "        return f'{date.year - 1}-{date.year}'\n",
    "\n",
    "def add_season_to_csv(input_csv, output_csv):\n",
    "    df = pd.read_csv(input_csv)\n",
    "\n",
    "    df['Season'] = df['Date'].apply(identify_season)\n",
    "\n",
    "    df.to_csv(output_csv, index=False)\n",
    "\n",
    "\n",
    "input_csv_path = 'C:\\\\Users\\\\Hsiun\\\\Desktop\\\\COMP0036\\\\new_epl_training.csv'\n",
    "output_csv_path = 'C:\\\\Users\\\\Hsiun\\\\Desktop\\\\COMP0036\\\\updated_new_epl_training.csv'\n",
    "\n",
    "add_season_to_csv(input_csv_path, output_csv_path)\n",
    "print(\"Season Updated!\")\n"
   ]
  },
  {
   "cell_type": "markdown",
   "id": "34c2956e",
   "metadata": {},
   "source": [
    "合并比赛数据和能力值"
   ]
  },
  {
   "cell_type": "code",
   "execution_count": 2,
   "id": "9c940f51",
   "metadata": {},
   "outputs": [
    {
     "name": "stdout",
     "output_type": "stream",
     "text": [
      "FM data updated!\n"
     ]
    }
   ],
   "source": [
    "import pandas as pd\n",
    "\n",
    "def merge_team_abilities(matches_csv, abilities_csv, output_csv):\n",
    "    matches = pd.read_csv(matches_csv)\n",
    "    abilities = pd.read_csv(abilities_csv)\n",
    "\n",
    "    merged_rows = []\n",
    "\n",
    "    for index, match in matches.iterrows():\n",
    "        season = match['Season']\n",
    "        home_team = match['HomeTeam']\n",
    "        away_team = match['AwayTeam']\n",
    "\n",
    "        home_abilities = abilities[(abilities['Season'] == season) & (abilities['Club'] == home_team)]\n",
    "        away_abilities = abilities[(abilities['Season'] == season) & (abilities['Club'] == away_team)]\n",
    "\n",
    "        for col in ['GK_Ability', 'team_offensive_ability', 'team_possession_ability', 'team_defensive_ability']:\n",
    "            match[f'Home_{col}'] = home_abilities[col].values[0] if not home_abilities.empty else None\n",
    "            match[f'Away_{col}'] = away_abilities[col].values[0] if not away_abilities.empty else None\n",
    "\n",
    "        merged_rows.append(match)\n",
    "\n",
    "    merged_data = pd.concat([pd.DataFrame(row).T for row in merged_rows], ignore_index=True)\n",
    "\n",
    "    merged_data.to_csv(output_csv, index=False)\n",
    "\n",
    "matches_csv_path = 'C:\\\\Users\\\\Hsiun\\\\Desktop\\\\COMP0036\\\\new_epl_training.csv'\n",
    "abilities_csv_path = 'C:\\\\Users\\\\Hsiun\\\\Desktop\\\\COMP0036\\\\all_historical_abilities.csv'  \n",
    "output_csv_path = 'C:\\\\Users\\\\Hsiun\\\\Desktop\\\\COMP0036\\\\updated_new_epl_training.csv'\n",
    "\n",
    "merge_team_abilities(matches_csv_path, abilities_csv_path, output_csv_path)\n",
    "print(\"FM data updated!\")"
   ]
  },
  {
   "cell_type": "code",
   "execution_count": null,
   "id": "7dbf3388",
   "metadata": {},
   "outputs": [],
   "source": []
  }
 ],
 "metadata": {
  "kernelspec": {
   "display_name": "Python 3 (ipykernel)",
   "language": "python",
   "name": "python3"
  },
  "language_info": {
   "codemirror_mode": {
    "name": "ipython",
    "version": 3
   },
   "file_extension": ".py",
   "mimetype": "text/x-python",
   "name": "python",
   "nbconvert_exporter": "python",
   "pygments_lexer": "ipython3",
   "version": "3.9.13"
  }
 },
 "nbformat": 4,
 "nbformat_minor": 5
}
