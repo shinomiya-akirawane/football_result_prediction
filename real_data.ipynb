{
 "cells": [
  {
   "cell_type": "markdown",
   "id": "506b2f10",
   "metadata": {},
   "source": [
    "裁判主客场偏好"
   ]
  },
  {
   "cell_type": "code",
   "execution_count": 11,
   "id": "70889ee3",
   "metadata": {},
   "outputs": [
    {
     "name": "stdout",
     "output_type": "stream",
     "text": [
      "Updated CSV file with Referee Bias Index has been saved to the original location.\n"
     ]
    }
   ],
   "source": [
    "import pandas as pd\n",
    "\n",
    "file_path = 'C:\\\\Users\\\\Hsiun\\\\Desktop\\\\COMP0036\\\\new_epl_training.csv' \n",
    "\n",
    "referee_data = pd.read_csv(file_path)\n",
    "df = pd.DataFrame(referee_data)\n",
    "\n",
    "# 计算裁判对主客场的判罚差异\n",
    "df['Fouls_Difference'] = df['HF'] - df['AF']\n",
    "df['Yellows_Difference'] = df['HY'] - df['AY']\n",
    "df['Reds_Difference'] = df['HR'] - df['AR']\n",
    "\n",
    "# 裁判偏好指数\n",
    "df['Referee_Bias_Index'] = df[['Fouls_Difference', 'Yellows_Difference', 'Reds_Difference']].mean(axis=1)\n",
    "\n",
    "df.to_csv('C:\\\\Users\\\\Hsiun\\\\Desktop\\\\COMP0036\\\\updated_new_epl_training.csv', index=False)\n",
    "\n",
    "print(\"Updated CSV file with Referee Bias Index has been saved to the original location.\")"
   ]
  },
  {
   "cell_type": "markdown",
   "id": "c981e33c",
   "metadata": {},
   "source": [
    "赛后ELO评分"
   ]
  },
  {
   "cell_type": "code",
   "execution_count": 3,
   "id": "8694ab12",
   "metadata": {},
   "outputs": [
    {
     "name": "stdout",
     "output_type": "stream",
     "text": [
      "CSV file with dynamic Elo ratings has been saved.\n"
     ]
    }
   ],
   "source": [
    "import pandas as pd\n",
    "\n",
    "file_path = 'C:\\\\Users\\\\Hsiun\\\\Desktop\\\\COMP0036\\\\new_epl_training.csv'\n",
    "df = pd.read_csv(file_path)\n",
    "\n",
    "initial_elo = 1500\n",
    "elo_ratings = {team: initial_elo for team in pd.concat([df['HomeTeam'], df['AwayTeam']]).unique()}\n",
    "\n",
    "def update_elo(home_team, away_team, home_goals, away_goals, k=30):\n",
    "    # 计算预期得分\n",
    "    e_home = 1 / (1 + 10 ** ((elo_ratings[away_team] - elo_ratings[home_team]) / 400))\n",
    "    e_away = 1 / (1 + 10 ** ((elo_ratings[home_team] - elo_ratings[away_team]) / 400))\n",
    "\n",
    "    # 实际得分\n",
    "    s_home, s_away = (0.5, 0.5) if home_goals == away_goals else ((1, 0) if home_goals > away_goals else (0, 1))\n",
    "\n",
    "    # 更新Elo评分\n",
    "    elo_ratings[home_team] += k * (s_home - e_home)\n",
    "    elo_ratings[away_team] += k * (s_away - e_away)\n",
    "\n",
    "# 用于存储每场比赛后的Elo评分\n",
    "df['HomeTeam_Elo_After_Match'] = 0\n",
    "df['AwayTeam_Elo_After_Match'] = 0\n",
    "\n",
    "# 应用Elo评分更新，并记录每场比赛后的评分\n",
    "for index, row in df.iterrows():\n",
    "    update_elo(row['HomeTeam'], row['AwayTeam'], row['FTHG'], row['FTAG'])\n",
    "    df.at[index, 'HomeTeam_Elo_After_Match'] = elo_ratings[row['HomeTeam']]\n",
    "    df.at[index, 'AwayTeam_Elo_After_Match'] = elo_ratings[row['AwayTeam']]\n",
    "\n",
    "new_file_path = 'C:\\\\Users\\\\Hsiun\\\\Desktop\\\\COMP0036\\\\updated_new_epl_training.csv'\n",
    "df.to_csv(new_file_path, index=False)\n",
    "\n",
    "print(\"CSV file with dynamic Elo ratings has been saved.\")"
   ]
  },
  {
   "cell_type": "markdown",
   "id": "a9db57ab",
   "metadata": {},
   "source": [
    "赛前ELO评分"
   ]
  },
  {
   "cell_type": "code",
   "execution_count": 12,
   "id": "adc65b10",
   "metadata": {},
   "outputs": [
    {
     "name": "stdout",
     "output_type": "stream",
     "text": [
      "CSV file with pre-match Elo ratings has been saved.\n"
     ]
    }
   ],
   "source": [
    "import pandas as pd\n",
    "\n",
    "file_path = 'C:\\\\Users\\\\Hsiun\\\\Desktop\\\\COMP0036\\\\new_epl_training.csv'\n",
    "df = pd.read_csv(file_path)\n",
    "\n",
    "initial_elo = 1500\n",
    "elo_ratings = {team: initial_elo for team in pd.concat([df['HomeTeam'], df['AwayTeam']]).unique()}\n",
    "\n",
    "def update_elo(home_team, away_team, home_goals, away_goals, k=30):\n",
    "    # 计算预期得分\n",
    "    e_home = 1 / (1 + 10 ** ((elo_ratings[away_team] - elo_ratings[home_team]) / 400))\n",
    "    e_away = 1 / (1 + 10 ** ((elo_ratings[home_team] - elo_ratings[away_team]) / 400))\n",
    "\n",
    "    # 实际得分\n",
    "    s_home, s_away = (0.5, 0.5) if home_goals == away_goals else ((1, 0) if home_goals > away_goals else (0, 1))\n",
    "\n",
    "    # 更新Elo评分\n",
    "    new_home_elo = elo_ratings[home_team] + k * (s_home - e_home)\n",
    "    new_away_elo = elo_ratings[away_team] + k * (s_away - e_away)\n",
    "\n",
    "    return new_home_elo, new_away_elo\n",
    "\n",
    "df['HomeTeam_Elo_Before_Match'] = 0\n",
    "df['AwayTeam_Elo_Before_Match'] = 0\n",
    "\n",
    "# 应用Elo评分更新，并记录每场比赛前的评分\n",
    "for index, row in df.iterrows():\n",
    "    # 记录比赛前的Elo评分\n",
    "    df.at[index, 'HomeTeam_Elo_Before_Match'] = elo_ratings[row['HomeTeam']]\n",
    "    df.at[index, 'AwayTeam_Elo_Before_Match'] = elo_ratings[row['AwayTeam']]\n",
    "\n",
    "    # 更新Elo评分\n",
    "    new_home_elo, new_away_elo = update_elo(row['HomeTeam'], row['AwayTeam'], row['FTHG'], row['FTAG'])\n",
    "    elo_ratings[row['HomeTeam']] = new_home_elo\n",
    "    elo_ratings[row['AwayTeam']] = new_away_elo\n",
    "\n",
    "new_file_path = 'C:\\\\Users\\\\Hsiun\\\\Desktop\\\\COMP0036\\\\updated_new_epl_training.csv'\n",
    "df.to_csv(new_file_path, index=False)\n",
    "\n",
    "print(\"CSV file with pre-match Elo ratings has been saved.\")"
   ]
  },
  {
   "cell_type": "markdown",
   "id": "84766ec9",
   "metadata": {},
   "source": [
    "进球转换率和射正比例"
   ]
  },
  {
   "cell_type": "code",
   "execution_count": 13,
   "id": "ab4ed28c",
   "metadata": {},
   "outputs": [
    {
     "name": "stdout",
     "output_type": "stream",
     "text": [
      "CSV file with single match offensive efficiency has been saved.\n"
     ]
    }
   ],
   "source": [
    "import pandas as pd\n",
    "\n",
    "file_path = 'C:\\\\Users\\\\Hsiun\\\\Desktop\\\\COMP0036\\\\new_epl_training.csv'\n",
    "df = pd.read_csv(file_path)\n",
    "\n",
    "df['HomeTeam_Offensive_Shooting_Efficiency'] = 0.0\n",
    "df['AwayTeam_Offensive_Shooting_Efficiency'] = 0.0\n",
    "df['HomeTeam_Offensive_Shots_on_Target_Efficiency'] = 0.0\n",
    "df['AwayTeam_Offensive_Shots_on_Target_Efficiency'] = 0.0\n",
    "\n",
    "# 计算每场比赛的进攻和防守效率\n",
    "for index, row in df.iterrows():\n",
    "    # 进攻效率\n",
    "    home_goals = row['FTHG']\n",
    "    away_goals = row['FTAG']\n",
    "    home_shots = row['HS']\n",
    "    away_shots = row['AS']\n",
    "    home_shots_on_target = row['HST']\n",
    "    away_shots_on_target = row['AST']\n",
    "\n",
    "\n",
    "    # 计算并更新进攻效率\n",
    "    df.at[index, 'HomeTeam_Offensive_Shooting_Efficiency'] = home_goals / home_shots if home_shots > 0 else 0\n",
    "    df.at[index, 'AwayTeam_Offensive_Shooting_Efficiency'] = away_goals / away_shots if away_shots > 0 else 0\n",
    "    df.at[index, 'HomeTeam_Offensive_Shots_on_Target_Efficiency'] = home_goals / home_shots_on_target if home_shots_on_target > 0 else 0\n",
    "    df.at[index, 'AwayTeam_Offensive_Shots_on_Target_Efficiency'] = away_goals / away_shots_on_target if away_shots_on_target > 0 else 0\n",
    "\n",
    "new_file_path = 'C:\\\\Users\\\\Hsiun\\\\Desktop\\\\COMP0036\\\\updated_new_epl_training.csv'\n",
    "df.to_csv(new_file_path, index=False)\n",
    "\n",
    "print(\"CSV file with single match offensive efficiency has been saved.\")\n"
   ]
  },
  {
   "cell_type": "markdown",
   "id": "e1da486a",
   "metadata": {},
   "source": [
    "赛季进攻效率，防守效率"
   ]
  },
  {
   "cell_type": "code",
   "execution_count": 15,
   "id": "11c6843a",
   "metadata": {},
   "outputs": [
    {
     "name": "stdout",
     "output_type": "stream",
     "text": [
      "CSV file with updated offensive and defensive efficiency for each match has been saved.\n"
     ]
    }
   ],
   "source": [
    "import pandas as pd\n",
    "\n",
    "file_path = 'C:\\\\Users\\\\Hsiun\\\\Desktop\\\\COMP0036\\\\new_epl_training.csv'\n",
    "df = pd.read_csv(file_path)\n",
    "\n",
    "# 假设每个赛季有380场比赛\n",
    "matches_per_season = 380\n",
    "\n",
    "# 为DataFrame添加新列以存储每场比赛的效率\n",
    "columns = ['HomeTeam_Season_Offensive_Shooting_Efficiency', 'AwayTeam_Season_Offensive_Shooting_Efficiency',\n",
    "           'HomeTeam_Season_Offensive_Shots_on_Target_Efficiency', 'AwayTeam_Season_Offensive_Shots_on_Target_Efficiency',\n",
    "           'HomeTeam_Season_Defensive_Shooting_Efficiency', 'AwayTeam_Season_Defensive_Shooting_Efficiency',\n",
    "           'HomeTeam_Season_Defensive_Shots_on_Target_Efficiency', 'AwayTeam_Season_Defensive_Shots_on_Target_Efficiency']\n",
    "\n",
    "for col in columns:\n",
    "    df[col] = 0.0\n",
    "\n",
    "# 遍历每个赛季\n",
    "for i in range(0, len(df), matches_per_season):\n",
    "    season_df = df.iloc[i:i + matches_per_season]\n",
    "\n",
    "    # 统计数据\n",
    "    season_team_data = {}\n",
    "    for index, row in season_df.iterrows():\n",
    "        for team, is_home in [(row['HomeTeam'], True), (row['AwayTeam'], False)]:\n",
    "            if team not in season_team_data:\n",
    "                season_team_data[team] = {'TotalShots': 0, 'TotalShotsOnTarget': 0, 'TotalGoalsScored': 0, \n",
    "                                          'TotalShotsConceded': 0, 'TotalShotsOnTargetConceded': 0, 'TotalGoalsConceded': 0}\n",
    "\n",
    "            goals = row['FTHG'] if is_home else row['FTAG']\n",
    "            shots = row['HS'] if is_home else row['AS']\n",
    "            shots_on_target = row['HST'] if is_home else row['AST']\n",
    "            goals_conceded = row['FTAG'] if is_home else row['FTHG']\n",
    "            shots_conceded = row['AS'] if is_home else row['HS']\n",
    "            shots_on_target_conceded = row['AST'] if is_home else row['HST']\n",
    "\n",
    "            season_team_data[team]['TotalShots'] += shots\n",
    "            season_team_data[team]['TotalShotsOnTarget'] += shots_on_target\n",
    "            season_team_data[team]['TotalGoalsScored'] += goals\n",
    "            season_team_data[team]['TotalShotsConceded'] += shots_conceded\n",
    "            season_team_data[team]['TotalShotsOnTargetConceded'] += shots_on_target_conceded\n",
    "            season_team_data[team]['TotalGoalsConceded'] += goals_conceded\n",
    "\n",
    "    # 计算效率\n",
    "    for index, row in season_df.iterrows():\n",
    "        home_team = row['HomeTeam']\n",
    "        away_team = row['AwayTeam']\n",
    "        home_data = season_team_data[home_team]\n",
    "        away_data = season_team_data[away_team]\n",
    "\n",
    "        df.at[index, 'HomeTeam_Season_Offensive_Shooting_Efficiency'] = home_data['TotalGoalsScored'] / home_data['TotalShots'] if home_data['TotalShots'] > 0 else 0\n",
    "        df.at[index, 'AwayTeam_Season_Offensive_Shooting_Efficiency'] = away_data['TotalGoalsScored'] / away_data['TotalShots'] if away_data['TotalShots'] > 0 else 0\n",
    "        df.at[index, 'HomeTeam_Season_Offensive_Shots_on_Target_Efficiency'] = home_data['TotalGoalsScored'] / home_data['TotalShotsOnTarget'] if home_data['TotalShotsOnTarget'] > 0 else 0\n",
    "        df.at[index, 'AwayTeam_Season_Offensive_Shots_on_Target_Efficiency'] = away_data['TotalGoalsScored'] / away_data['TotalShotsOnTarget'] if away_data['TotalShotsOnTarget'] > 0 else 0\n",
    "        df.at[index, 'HomeTeam_Season_Defensive_Shooting_Efficiency'] = home_data['TotalGoalsConceded'] / home_data['TotalShotsConceded'] if home_data['TotalShotsConceded'] > 0 else 0\n",
    "        df.at[index, 'AwayTeam_Season_Defensive_Shooting_Efficiency'] = away_data['TotalGoalsConceded'] / away_data['TotalShotsConceded'] if away_data['TotalShotsConceded'] > 0 else 0\n",
    "        df.at[index, 'HomeTeam_Season_Defensive_Shots_on_Target_Efficiency'] = home_data['TotalGoalsConceded'] / home_data['TotalShotsOnTargetConceded'] if home_data['TotalShotsOnTargetConceded'] > 0 else 0\n",
    "        df.at[index, 'AwayTeam_Season_Defensive_Shots_on_Target_Efficiency'] = away_data['TotalGoalsConceded'] / away_data['TotalShotsOnTargetConceded'] if away_data['TotalShotsOnTargetConceded'] > 0 else 0\n",
    "\n",
    "\n",
    "new_file_path = 'C:\\\\Users\\\\Hsiun\\\\Desktop\\\\COMP0036\\\\updated_new_epl_training.csv'\n",
    "df.to_csv(new_file_path, index=False)\n",
    "\n",
    "print(\"CSV file with updated offensive and defensive efficiency for each match has been saved.\")\n"
   ]
  },
  {
   "cell_type": "markdown",
   "id": "a7edc2c3",
   "metadata": {},
   "source": [
    "主队优势和客队表现"
   ]
  },
  {
   "cell_type": "code",
   "execution_count": 16,
   "id": "087e2b1b",
   "metadata": {},
   "outputs": [
    {
     "name": "stdout",
     "output_type": "stream",
     "text": [
      "CSV file with new performance metrics has been saved.\n"
     ]
    }
   ],
   "source": [
    "import pandas as pd\n",
    "\n",
    "file_path = 'C:\\\\Users\\\\Hsiun\\\\Desktop\\\\COMP0036\\\\new_epl_training.csv'\n",
    "df = pd.read_csv(file_path)\n",
    "\n",
    "# 假设每个赛季有380场比赛\n",
    "matches_per_season = 380\n",
    "\n",
    "\n",
    "df['HomeTeam_HomeWinRate'] = 0.0\n",
    "df['AwayTeam_AwayWinRate'] = 0.0\n",
    "df['HomeTeam_HomeGoalsRatio'] = 0.0\n",
    "df['AwayTeam_AwayGoalsRatio'] = 0.0\n",
    "df['HomeTeam_HomeWinsRatio'] = 0.0\n",
    "df['AwayTeam_AwayWinsRatio'] = 0.0\n",
    "\n",
    "# 遍历每个赛季\n",
    "for i in range(0, len(df), matches_per_season):\n",
    "    season_df = df.iloc[i:i + matches_per_season]\n",
    "\n",
    "    # 统计数据\n",
    "    season_team_data = {}\n",
    "    for index, row in season_df.iterrows():\n",
    "        for team, is_home in [(row['HomeTeam'], True), (row['AwayTeam'], False)]:\n",
    "            if team not in season_team_data:\n",
    "                season_team_data[team] = {'TotalGoals': 0, 'TotalWins': 0, 'HomeGoals': 0, 'HomeWins': 0, 'AwayGoals': 0, 'AwayWins': 0}\n",
    "            \n",
    "            goals = row['FTHG'] if is_home else row['FTAG']\n",
    "            win = (row['FTR'] == 'H' and is_home) or (row['FTR'] == 'A' and not is_home)\n",
    "\n",
    "            season_team_data[team]['TotalGoals'] += goals\n",
    "            if win:\n",
    "                season_team_data[team]['TotalWins'] += 1\n",
    "            \n",
    "            if is_home:\n",
    "                season_team_data[team]['HomeGoals'] += goals\n",
    "                if win:\n",
    "                    season_team_data[team]['HomeWins'] += 1\n",
    "            else:\n",
    "                season_team_data[team]['AwayGoals'] += goals\n",
    "                if win:\n",
    "                    season_team_data[team]['AwayWins'] += 1\n",
    "\n",
    "    # 计算比率\n",
    "    for index, row in season_df.iterrows():\n",
    "        home_team = row['HomeTeam']\n",
    "        away_team = row['AwayTeam']\n",
    "        home_data = season_team_data[home_team]\n",
    "        away_data = season_team_data[away_team]\n",
    "\n",
    "        df.at[index, 'HomeTeam_HomeWinRate'] = home_data['HomeWins'] / len(season_df[season_df['HomeTeam'] == home_team]) if len(season_df[season_df['HomeTeam'] == home_team]) > 0 else 0\n",
    "        df.at[index, 'AwayTeam_AwayWinRate'] = away_data['AwayWins'] / len(season_df[season_df['AwayTeam'] == away_team]) if len(season_df[season_df['AwayTeam'] == away_team]) > 0 else 0\n",
    "\n",
    "        df.at[index, 'HomeTeam_HomeGoalsRatio'] = home_data['HomeGoals'] / home_data['TotalGoals'] if home_data['TotalGoals'] > 0 else 0\n",
    "        df.at[index, 'AwayTeam_AwayGoalsRatio'] = away_data['AwayGoals'] / away_data['TotalGoals'] if away_data['TotalGoals'] > 0 else 0\n",
    "\n",
    "        df.at[index, 'HomeTeam_HomeWinsRatio'] = home_data['HomeWins'] / home_data['TotalWins'] if home_data['TotalWins'] > 0 else 0\n",
    "        df.at[index, 'AwayTeam_AwayWinsRatio'] = away_data['AwayWins'] / away_data['TotalWins'] if away_data['TotalWins'] > 0 else 0\n",
    "\n",
    "new_file_path = 'C:\\\\Users\\\\Hsiun\\\\Desktop\\\\COMP0036\\\\updated_new_epl_training.csv'\n",
    "df.to_csv(new_file_path, index=False)\n",
    "\n",
    "print(\"CSV file with new performance metrics has been saved.\")\n"
   ]
  },
  {
   "cell_type": "markdown",
   "id": "01840334",
   "metadata": {},
   "source": [
    "处理英超数据"
   ]
  },
  {
   "cell_type": "code",
   "execution_count": 17,
   "id": "e5156f0d",
   "metadata": {},
   "outputs": [
    {
     "name": "stdout",
     "output_type": "stream",
     "text": [
      "Updated CSV file with EPL feature has been saved.\n"
     ]
    }
   ],
   "source": [
    "import pandas as pd\n",
    "\n",
    "file_path = 'C:\\\\Users\\\\Hsiun\\\\Desktop\\\\COMP0036\\\\new_epl_training.csv' \n",
    "\n",
    "df = pd.read_csv(file_path)\n",
    "df['EPL'] = 1\n",
    "\n",
    "output_file_path = 'C:\\\\Users\\\\Hsiun\\\\Desktop\\\\COMP0036\\\\updated_new_epl_training.csv'  \n",
    "df.to_csv(output_file_path, index=False)\n",
    "\n",
    "print(\"Updated CSV file with EPL feature has been saved.\")\n"
   ]
  },
  {
   "cell_type": "markdown",
   "id": "370ddd06",
   "metadata": {},
   "source": [
    "添加杯赛数据"
   ]
  },
  {
   "cell_type": "code",
   "execution_count": 18,
   "id": "93f435d5",
   "metadata": {},
   "outputs": [
    {
     "name": "stdout",
     "output_type": "stream",
     "text": [
      "Combined CSV file with season and cup matches has been saved and sorted by date.\n"
     ]
    }
   ],
   "source": [
    "import pandas as pd\n",
    "\n",
    "seasons_file_path = 'C:\\\\Users\\\\Hsiun\\\\Desktop\\\\COMP0036\\\\new_epl_training.csv'  \n",
    "cup_matches_file_path = 'C:\\\\Users\\\\Hsiun\\\\Desktop\\\\COMP0036\\\\External_Cups.csv'\n",
    "\n",
    "seasons_df = pd.read_csv(seasons_file_path)\n",
    "cup_matches_df = pd.read_csv(cup_matches_file_path)\n",
    "\n",
    "\n",
    "# 对于赛季数据中存在而杯赛数据中不存在的列，用0填充\n",
    "combined_df = pd.concat([seasons_df, cup_matches_df.reindex(columns=seasons_df.columns, fill_value=0)], ignore_index=True)\n",
    "\n",
    "combined_df['Date'] = pd.to_datetime(combined_df['Date'])\n",
    "combined_df.sort_values(by='Date', inplace=True)\n",
    "\n",
    "output_file_path = 'C:\\\\Users\\\\Hsiun\\\\Desktop\\\\COMP0036\\\\combined_matches.csv'\n",
    "combined_df.to_csv(output_file_path, index=False)\n",
    "\n",
    "print(\"Combined CSV file with season and cup matches has been saved and sorted by date.\")\n"
   ]
  },
  {
   "cell_type": "markdown",
   "id": "ebda1934",
   "metadata": {},
   "source": [
    "杯赛因素"
   ]
  },
  {
   "cell_type": "code",
   "execution_count": 19,
   "id": "8664b8a2",
   "metadata": {},
   "outputs": [
    {
     "name": "stdout",
     "output_type": "stream",
     "text": [
      "CSV file with new features has been saved.\n"
     ]
    }
   ],
   "source": [
    "import pandas as pd\n",
    "from datetime import datetime, timedelta\n",
    "\n",
    "\n",
    "file_path = 'C:\\\\Users\\\\Hsiun\\\\Desktop\\\\COMP0036\\\\new_epl_training.csv'\n",
    "\n",
    "df = pd.read_csv(file_path)\n",
    "\n",
    "df['Date'] = pd.to_datetime(df['Date'], format='%Y/%m/%d')\n",
    "\n",
    "df['HomeTeam_CupGamesLastMonth'] = 0\n",
    "df['AwayTeam_CupGamesLastMonth'] = 0\n",
    "\n",
    "# 为每个队伍分别计算过去一个月的杯赛比赛次数\n",
    "for index, row in df.iterrows():\n",
    "    # 计算当前日期的前一个月\n",
    "    date_one_month_ago = row['Date'] - timedelta(days=30)\n",
    "    \n",
    "    # 过滤出过去一个月的杯赛比赛\n",
    "    last_month_cup_games = df[(df['Date'] >= date_one_month_ago) & (df['Date'] < row['Date']) & (df['EPL'] == 0)]\n",
    "    \n",
    "    # 计算主队过去一个月的杯赛比赛次数\n",
    "    home_team_cup_games = last_month_cup_games[(last_month_cup_games['HomeTeam'] == row['HomeTeam']) | (last_month_cup_games['AwayTeam'] == row['HomeTeam'])]\n",
    "    df.at[index, 'HomeTeam_CupGamesLastMonth'] = len(home_team_cup_games)\n",
    "    \n",
    "    # 计算客队过去一个月的杯赛比赛次数\n",
    "    away_team_cup_games = last_month_cup_games[(last_month_cup_games['HomeTeam'] == row['AwayTeam']) | (last_month_cup_games['AwayTeam'] == row['AwayTeam'])]\n",
    "    df.at[index, 'AwayTeam_CupGamesLastMonth'] = len(away_team_cup_games)\n",
    "\n",
    "df.to_csv('C:\\\\Users\\\\Hsiun\\\\Desktop\\\\COMP0036\\\\updated_new_epl_training.csv', index=False)\n",
    "print(\"CSV file with new features has been saved.\")"
   ]
  },
  {
   "cell_type": "markdown",
   "id": "d70ecf1d",
   "metadata": {},
   "source": [
    "团队士气+诅咒参数"
   ]
  },
  {
   "cell_type": "code",
   "execution_count": 20,
   "id": "04d76402",
   "metadata": {},
   "outputs": [
    {
     "name": "stdout",
     "output_type": "stream",
     "text": [
      "CSV file with new features has been saved.\n"
     ]
    }
   ],
   "source": [
    "import pandas as pd\n",
    "\n",
    "file_path = 'C:\\\\Users\\\\Hsiun\\\\Desktop\\\\COMP0036\\\\new_epl_training.csv'  \n",
    "df = pd.read_csv(file_path)\n",
    "\n",
    "# 确保日期列以日期时间格式存储\n",
    "df['Date'] = pd.to_datetime(df['Date'])\n",
    "df.sort_values(by='Date', inplace=True)\n",
    "\n",
    "def calculate_team_morale(df, team, current_date):\n",
    "    # 获取该队伍过去五场比赛\n",
    "    past_matches = df[((df['HomeTeam'] == team) | (df['AwayTeam'] == team)) & (df['Date'] < current_date)].tail(5)\n",
    "    \n",
    "    # 计算士气\n",
    "    morale = 0\n",
    "    for _, row in past_matches.iterrows():\n",
    "        if row['HomeTeam'] == team:  # 如果球队是主队\n",
    "            if row['FTHG'] > row['FTAG']:  # 主队赢\n",
    "                morale += 3\n",
    "            elif row['FTHG'] == row['FTAG']:  # 主队平\n",
    "                morale -= 1\n",
    "            else:  # 主队输\n",
    "                morale -= 5\n",
    "        else:  # 如果球队是客队\n",
    "            if row['FTAG'] > row['FTHG']:  # 客队赢\n",
    "                morale += 5\n",
    "            elif row['FTAG'] == row['FTHG']:  # 客队平\n",
    "                morale += 1\n",
    "            else:  # 客队输\n",
    "                morale -= 3\n",
    "    return morale\n",
    "\n",
    "def calculate_curse_parameter(df, home_team, away_team, current_date):\n",
    "    # 获取两队过去五次交手的比赛\n",
    "    past_matches = df[((df['HomeTeam'] == home_team) & (df['AwayTeam'] == away_team) | \n",
    "                      (df['HomeTeam'] == away_team) & (df['AwayTeam'] == home_team)) & \n",
    "                      (df['Date'] < current_date)].tail(5)\n",
    "    \n",
    "    # 计算诅咒参数\n",
    "    curse_param = 0\n",
    "    for _, row in past_matches.iterrows():\n",
    "        if (row['HomeTeam'] == home_team and row['FTHG'] > row['FTAG']) or \\\n",
    "           (row['AwayTeam'] == home_team and row['FTAG'] > row['FTHG']):\n",
    "            curse_param += 1\n",
    "        elif (row['HomeTeam'] == away_team and row['FTHG'] > row['FTAG']) or \\\n",
    "             (row['AwayTeam'] == away_team and row['FTAG'] > row['FTHG']):\n",
    "            curse_param -= 1\n",
    "    return curse_param\n",
    "\n",
    "df['HomeTeam_Morale'] = df.apply(lambda row: calculate_team_morale(df, row['HomeTeam'], row['Date']), axis=1)\n",
    "df['AwayTeam_Morale'] = df.apply(lambda row: calculate_team_morale(df, row['AwayTeam'], row['Date']), axis=1)\n",
    "df['Curse_Parameter'] = df.apply(lambda row: calculate_curse_parameter(df, row['HomeTeam'], row['AwayTeam'], row['Date']), axis=1)\n",
    "\n",
    "output_path = 'C:\\\\Users\\\\Hsiun\\\\Desktop\\\\COMP0036\\\\updated_new_epl_training.csv'\n",
    "df.to_csv(output_path, index=False)\n",
    "\n",
    "print(\"CSV file with new features has been saved.\")\n"
   ]
  },
  {
   "cell_type": "code",
   "execution_count": null,
   "id": "8679d9b1",
   "metadata": {},
   "outputs": [],
   "source": []
  }
 ],
 "metadata": {
  "kernelspec": {
   "display_name": "Python 3 (ipykernel)",
   "language": "python",
   "name": "python3"
  },
  "language_info": {
   "codemirror_mode": {
    "name": "ipython",
    "version": 3
   },
   "file_extension": ".py",
   "mimetype": "text/x-python",
   "name": "python",
   "nbconvert_exporter": "python",
   "pygments_lexer": "ipython3",
   "version": "3.9.13"
  }
 },
 "nbformat": 4,
 "nbformat_minor": 5
}
